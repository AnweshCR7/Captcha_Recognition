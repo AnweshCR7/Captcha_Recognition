{
  "nbformat": 4,
  "nbformat_minor": 0,
  "metadata": {
    "colab": {
      "name": "TrainingDemo.ipynb",
      "provenance": [],
      "collapsed_sections": [],
      "authorship_tag": "ABX9TyO/kc08Ve7QILAD/wj3cEuQ",
      "include_colab_link": true
    },
    "kernelspec": {
      "name": "python3",
      "display_name": "Python 3"
    },
    "accelerator": "GPU"
  },
  "cells": [
    {
      "cell_type": "markdown",
      "metadata": {
        "id": "view-in-github",
        "colab_type": "text"
      },
      "source": [
        "<a href=\"https://colab.research.google.com/github/AnweshCR7/Captcha_Recognition/blob/develop/TrainingDemo.ipynb\" target=\"_parent\"><img src=\"https://colab.research.google.com/assets/colab-badge.svg\" alt=\"Open In Colab\"/></a>"
      ]
    },
    {
      "cell_type": "code",
      "metadata": {
        "colab": {
          "base_uri": "https://localhost:8080/"
        },
        "id": "QMRaimMFMErb",
        "outputId": "2df4a50d-a5c6-4949-eb85-e0b77ee0937c"
      },
      "source": [
        "# Mount Google Drive\n",
        "from google.colab import drive # import drive from google colab\n",
        "\n",
        "ROOT = \"/content/drive\"     # default location for the drive\n",
        "print(ROOT)                 # print content of ROOT (Optional)\n",
        "\n",
        "drive.mount(ROOT)           # we mount the google drive at /content/drive"
      ],
      "execution_count": 1,
      "outputs": [
        {
          "output_type": "stream",
          "text": [
            "/content/drive\n",
            "Mounted at /content/drive\n"
          ],
          "name": "stdout"
        }
      ]
    },
    {
      "cell_type": "code",
      "metadata": {
        "colab": {
          "base_uri": "https://localhost:8080/"
        },
        "id": "mFWquqGJMXs0",
        "outputId": "23c3df0d-0d0a-429e-945d-c0c59a332f0d"
      },
      "source": [
        "# Clone github repository setup\n",
        "from os.path import join  \n",
        "\n",
        "# path to your project on Google Drive\n",
        "MY_GOOGLE_DRIVE_PATH = 'My Drive/MyDrive/' \n",
        "\n",
        "# your Github username \n",
        "GIT_USERNAME = \"anweshcr7\" \n",
        "# GitHub access token\n",
        "GIT_TOKEN = \"c4744910eaebe3a3ef486aa814d352e212a1bb97\"  \n",
        "# Replace with your github repository\n",
        "GIT_REPOSITORY = \"Captcha_Recognition\" \n",
        "\n",
        "PROJECT_PATH = join(ROOT, MY_GOOGLE_DRIVE_PATH)\n",
        "\n",
        "print(\"PROJECT_PATH: \", PROJECT_PATH)   \n",
        "\n",
        "# # In case we haven't created the folder already; we will create a folder in the project path \n",
        "# !mkdir \"{PROJECT_PATH}\"    \n",
        "\n",
        "GIT_PATH = f\"https://{GIT_TOKEN}@github.com/{GIT_USERNAME}/{GIT_REPOSITORY}.git\"\n",
        "print(\"GIT_PATH: \", GIT_PATH)\n",
        "GIT_BRANCH = \"develop\""
      ],
      "execution_count": 2,
      "outputs": [
        {
          "output_type": "stream",
          "text": [
            "PROJECT_PATH:  /content/drive/My Drive/MyDrive/\n",
            "GIT_PATH:  https://c4744910eaebe3a3ef486aa814d352e212a1bb97@github.com/anweshcr7/Captcha_Recognition.git\n"
          ],
          "name": "stdout"
        }
      ]
    },
    {
      "cell_type": "code",
      "metadata": {
        "colab": {
          "base_uri": "https://localhost:8080/"
        },
        "id": "aYKVgctbOAnp",
        "outputId": "6e17a69f-b25a-470d-b991-00ceb732b44c"
      },
      "source": [
        "# %rm -r /content/Captcha_Recognition/\n",
        "# EXEC_COMMAND = f\"-b {GIT_BRANCH} {GIT_PATH}\"\n",
        "!git clone -b \"{GIT_BRANCH}\" \"{GIT_PATH}\""
      ],
      "execution_count": 3,
      "outputs": [
        {
          "output_type": "stream",
          "text": [
            "Cloning into 'Captcha_Recognition'...\n",
            "remote: Enumerating objects: 21, done.\u001b[K\n",
            "remote: Counting objects: 100% (21/21), done.\u001b[K\n",
            "remote: Compressing objects: 100% (16/16), done.\u001b[K\n",
            "remote: Total 21 (delta 4), reused 16 (delta 3), pack-reused 0\u001b[K\n",
            "Unpacking objects: 100% (21/21), done.\n"
          ],
          "name": "stdout"
        }
      ]
    },
    {
      "cell_type": "code",
      "metadata": {
        "colab": {
          "base_uri": "https://localhost:8080/"
        },
        "id": "UVkBhRqEQK9L",
        "outputId": "1ea133ef-31c8-4193-8c91-21de5c89b1e6"
      },
      "source": [
        "!python3 /content/Captcha_Recognition/src/train.py "
      ],
      "execution_count": 8,
      "outputs": [
        {
          "output_type": "stream",
          "text": [
            "Traceback (most recent call last):\n",
            "  File \"/content/Captcha_Recognition/src/train.py\", line 6, in <module>\n",
            "    from sklearn import preprocessing\n",
            "  File \"/usr/local/lib/python3.6/dist-packages/sklearn/__init__.py\", line 82, in <module>\n",
            "    from .base import clone\n",
            "  File \"/usr/local/lib/python3.6/dist-packages/sklearn/base.py\", line 20, in <module>\n",
            "    from .utils import _IS_32BIT\n",
            "  File \"/usr/local/lib/python3.6/dist-packages/sklearn/utils/__init__.py\", line 24, in <module>\n",
            "    from . import _joblib\n",
            "  File \"/usr/local/lib/python3.6/dist-packages/sklearn/utils/_joblib.py\", line 7, in <module>\n",
            "    import joblib\n",
            "  File \"/usr/local/lib/python3.6/dist-packages/joblib/__init__.py\", line 120, in <module>\n",
            "    from .parallel import Parallel\n",
            "  File \"/usr/local/lib/python3.6/dist-packages/joblib/parallel.py\", line 26, in <module>\n",
            "    from ._parallel_backends import (FallbackToBackend, MultiprocessingBackend,\n",
            "  File \"/usr/local/lib/python3.6/dist-packages/joblib/_parallel_backends.py\", line 17, in <module>\n",
            "    from .pool import MemmappingPool\n",
            "  File \"/usr/local/lib/python3.6/dist-packages/joblib/pool.py\", line 31, in <module>\n",
            "    from ._memmapping_reducer import get_memmapping_reducers\n",
            "  File \"/usr/local/lib/python3.6/dist-packages/joblib/_memmapping_reducer.py\", line 37, in <module>\n",
            "    from .externals.loky.backend import resource_tracker\n",
            "  File \"/usr/local/lib/python3.6/dist-packages/joblib/externals/loky/__init__.py\", line 13, in <module>\n",
            "    from .reusable_executor import get_reusable_executor\n",
            "  File \"/usr/local/lib/python3.6/dist-packages/joblib/externals/loky/reusable_executor.py\", line 11, in <module>\n",
            "    from .process_executor import ProcessPoolExecutor, EXTRA_QUEUED_CALLS\n",
            "  File \"/usr/local/lib/python3.6/dist-packages/joblib/externals/loky/process_executor.py\", line 887, in <module>\n",
            "    class LokyRecursionError(RuntimeError):\n",
            "KeyboardInterrupt\n"
          ],
          "name": "stdout"
        }
      ]
    }
  ]
}